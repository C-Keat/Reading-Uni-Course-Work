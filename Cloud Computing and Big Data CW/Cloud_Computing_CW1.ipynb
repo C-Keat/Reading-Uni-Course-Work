{
  "nbformat": 4,
  "nbformat_minor": 0,
  "metadata": {
    "colab": {
      "name": "Cloud Computing CW1.ipynb",
      "provenance": [],
      "collapsed_sections": [
        "Bccqz9jVd_CC",
        "bzHxghzTeDSc",
        "uf23-oR6Zy_L",
        "hGrSz7zdusF1",
        "MwQJngMUfwtp",
        "5acQkHvRgBVC",
        "7rP7f13yajFl"
      ],
      "mount_file_id": "1m1YQg9EG-khiZo5CXKE4hQkUZDAKppnp",
      "authorship_tag": "ABX9TyNy1TlH3pi4tipj8rb4+MEA",
      "include_colab_link": true
    },
    "kernelspec": {
      "name": "python3",
      "display_name": "Python 3"
    },
    "language_info": {
      "name": "python"
    }
  },
  "cells": [
    {
      "cell_type": "markdown",
      "metadata": {
        "id": "view-in-github",
        "colab_type": "text"
      },
      "source": [
        "<a href=\"https://colab.research.google.com/github/C-Keat/Reading-Uni-Course-Work/blob/main/Cloud_Computing_CW1.ipynb\" target=\"_parent\"><img src=\"https://colab.research.google.com/assets/colab-badge.svg\" alt=\"Open In Colab\"/></a>"
      ]
    },
    {
      "cell_type": "markdown",
      "source": [
        "#Cloud Computing Course work workspace\n",
        "\n",
        "In this Google Colab enviroment we create the code needed to perform the tasks requesed from the assignement.\n",
        "\n",
        "* Task 1: Determine the total number of flights from each airport\n",
        "* Task 2: Determine the passenger having had the highest number of flights.\n",
        "\n",
        "For this task in the development process, develop a MapReduce-like executable prototype, (in Java, C, C++, or Python). The objective is to develop the basic functional ‘building-blocks’ that will address the Tasks 1 & 2 as\n",
        "listed above, in a way that emulates the MapReduce/Hadoop framework.\n",
        "\n",
        "The solution may use multi-threading as required. The marking scheme reflects the appropriate use of coding techniques, succinct code comments as required, data structures and overall program design. \n",
        "\n",
        "The code should be subject to version control best-practices using a hosted repository under your university username."
      ],
      "metadata": {
        "id": "Er2x7sLUU1oQ"
      }
    },
    {
      "cell_type": "markdown",
      "source": [
        "##The data, Class Creation & Muti-Threading Creation\n",
        "\n",
        "First we will import the data and examine it.\n",
        "\n",
        "In this assignment it was made clear that standard EDA and data cleaning did not need to take place, thus this is why it is not present in this workbook. In any normal situation checks and exploration would be done to make sure that the data is sound."
      ],
      "metadata": {
        "id": "vVLMfknzcDa2"
      }
    },
    {
      "cell_type": "markdown",
      "source": [
        "###Data inport\n",
        "\n",
        "Here is where the data is imported"
      ],
      "metadata": {
        "id": "te6bphvYfA2m"
      }
    },
    {
      "cell_type": "code",
      "execution_count": 1,
      "metadata": {
        "id": "8UlACsNeUwFZ"
      },
      "outputs": [],
      "source": [
        "#importing libaries\n",
        "import numpy as np\n",
        "import pandas as pd\n",
        "import csv"
      ]
    },
    {
      "cell_type": "code",
      "source": [
        "#Importing the data into dataframes\n",
        "passengerDataOrgin_df = pd.read_csv(\"/content/drive/MyDrive/Education/Universitys/Reading University/Masters/Course/S2/Big Data and Cloud Computing (2021 22)/Cloud Computing/Assignment/Data/AComp_Passenger_data_no_error(1).csv\", header=None)"
      ],
      "metadata": {
        "id": "PiVkUfAdiAC_"
      },
      "execution_count": 2,
      "outputs": []
    },
    {
      "cell_type": "markdown",
      "source": [
        "Display the head of each of the dataframes for validation of import."
      ],
      "metadata": {
        "id": "wcu6t9y6ieps"
      }
    },
    {
      "cell_type": "code",
      "source": [
        "passengerDataOrgin_df"
      ],
      "metadata": {
        "id": "iesmhfVFic4k",
        "colab": {
          "base_uri": "https://localhost:8080/",
          "height": 424
        },
        "outputId": "34d7a7c4-4b0d-4127-ce21-83ca8bb9fd65"
      },
      "execution_count": 3,
      "outputs": [
        {
          "output_type": "execute_result",
          "data": {
            "text/plain": [
              "              0         1    2    3           4     5\n",
              "0    UES9151GS5  SQU6245R  DEN  FRA  1420564460  1049\n",
              "1    UES9151GS5  XXQ4064B  JFK  FRA  1420563917   802\n",
              "2    EZC9678QI6  SOH3431A  ORD  MIA  1420563649   250\n",
              "3    ONL0812DH1  SOH3431A  ORD  MIA  1420563649   250\n",
              "4    CYJ0225CH1  PME8178S  DEN  PEK  1420564409  1322\n",
              "..          ...       ...  ...  ...         ...   ...\n",
              "495  BWI0520BG6  BER7172M  KUL  LAS  1420565167  1848\n",
              "496  LLZ3798PE3  EWH6301Y  CAN  DFW  1420564967  1683\n",
              "497  KKP5277HZ7  KJR6646J  IAH  BKK  1420565203  1928\n",
              "498  JJM4724RF7  XXQ4064B  JFK  FRA  1420563917   802\n",
              "499  SJD8775RZ4  WSK1289Z  CLT  DEN  1420563542   278\n",
              "\n",
              "[500 rows x 6 columns]"
            ],
            "text/html": [
              "\n",
              "  <div id=\"df-8b847daf-ca73-47b9-acb5-d2800ec01a2f\">\n",
              "    <div class=\"colab-df-container\">\n",
              "      <div>\n",
              "<style scoped>\n",
              "    .dataframe tbody tr th:only-of-type {\n",
              "        vertical-align: middle;\n",
              "    }\n",
              "\n",
              "    .dataframe tbody tr th {\n",
              "        vertical-align: top;\n",
              "    }\n",
              "\n",
              "    .dataframe thead th {\n",
              "        text-align: right;\n",
              "    }\n",
              "</style>\n",
              "<table border=\"1\" class=\"dataframe\">\n",
              "  <thead>\n",
              "    <tr style=\"text-align: right;\">\n",
              "      <th></th>\n",
              "      <th>0</th>\n",
              "      <th>1</th>\n",
              "      <th>2</th>\n",
              "      <th>3</th>\n",
              "      <th>4</th>\n",
              "      <th>5</th>\n",
              "    </tr>\n",
              "  </thead>\n",
              "  <tbody>\n",
              "    <tr>\n",
              "      <th>0</th>\n",
              "      <td>UES9151GS5</td>\n",
              "      <td>SQU6245R</td>\n",
              "      <td>DEN</td>\n",
              "      <td>FRA</td>\n",
              "      <td>1420564460</td>\n",
              "      <td>1049</td>\n",
              "    </tr>\n",
              "    <tr>\n",
              "      <th>1</th>\n",
              "      <td>UES9151GS5</td>\n",
              "      <td>XXQ4064B</td>\n",
              "      <td>JFK</td>\n",
              "      <td>FRA</td>\n",
              "      <td>1420563917</td>\n",
              "      <td>802</td>\n",
              "    </tr>\n",
              "    <tr>\n",
              "      <th>2</th>\n",
              "      <td>EZC9678QI6</td>\n",
              "      <td>SOH3431A</td>\n",
              "      <td>ORD</td>\n",
              "      <td>MIA</td>\n",
              "      <td>1420563649</td>\n",
              "      <td>250</td>\n",
              "    </tr>\n",
              "    <tr>\n",
              "      <th>3</th>\n",
              "      <td>ONL0812DH1</td>\n",
              "      <td>SOH3431A</td>\n",
              "      <td>ORD</td>\n",
              "      <td>MIA</td>\n",
              "      <td>1420563649</td>\n",
              "      <td>250</td>\n",
              "    </tr>\n",
              "    <tr>\n",
              "      <th>4</th>\n",
              "      <td>CYJ0225CH1</td>\n",
              "      <td>PME8178S</td>\n",
              "      <td>DEN</td>\n",
              "      <td>PEK</td>\n",
              "      <td>1420564409</td>\n",
              "      <td>1322</td>\n",
              "    </tr>\n",
              "    <tr>\n",
              "      <th>...</th>\n",
              "      <td>...</td>\n",
              "      <td>...</td>\n",
              "      <td>...</td>\n",
              "      <td>...</td>\n",
              "      <td>...</td>\n",
              "      <td>...</td>\n",
              "    </tr>\n",
              "    <tr>\n",
              "      <th>495</th>\n",
              "      <td>BWI0520BG6</td>\n",
              "      <td>BER7172M</td>\n",
              "      <td>KUL</td>\n",
              "      <td>LAS</td>\n",
              "      <td>1420565167</td>\n",
              "      <td>1848</td>\n",
              "    </tr>\n",
              "    <tr>\n",
              "      <th>496</th>\n",
              "      <td>LLZ3798PE3</td>\n",
              "      <td>EWH6301Y</td>\n",
              "      <td>CAN</td>\n",
              "      <td>DFW</td>\n",
              "      <td>1420564967</td>\n",
              "      <td>1683</td>\n",
              "    </tr>\n",
              "    <tr>\n",
              "      <th>497</th>\n",
              "      <td>KKP5277HZ7</td>\n",
              "      <td>KJR6646J</td>\n",
              "      <td>IAH</td>\n",
              "      <td>BKK</td>\n",
              "      <td>1420565203</td>\n",
              "      <td>1928</td>\n",
              "    </tr>\n",
              "    <tr>\n",
              "      <th>498</th>\n",
              "      <td>JJM4724RF7</td>\n",
              "      <td>XXQ4064B</td>\n",
              "      <td>JFK</td>\n",
              "      <td>FRA</td>\n",
              "      <td>1420563917</td>\n",
              "      <td>802</td>\n",
              "    </tr>\n",
              "    <tr>\n",
              "      <th>499</th>\n",
              "      <td>SJD8775RZ4</td>\n",
              "      <td>WSK1289Z</td>\n",
              "      <td>CLT</td>\n",
              "      <td>DEN</td>\n",
              "      <td>1420563542</td>\n",
              "      <td>278</td>\n",
              "    </tr>\n",
              "  </tbody>\n",
              "</table>\n",
              "<p>500 rows × 6 columns</p>\n",
              "</div>\n",
              "      <button class=\"colab-df-convert\" onclick=\"convertToInteractive('df-8b847daf-ca73-47b9-acb5-d2800ec01a2f')\"\n",
              "              title=\"Convert this dataframe to an interactive table.\"\n",
              "              style=\"display:none;\">\n",
              "        \n",
              "  <svg xmlns=\"http://www.w3.org/2000/svg\" height=\"24px\"viewBox=\"0 0 24 24\"\n",
              "       width=\"24px\">\n",
              "    <path d=\"M0 0h24v24H0V0z\" fill=\"none\"/>\n",
              "    <path d=\"M18.56 5.44l.94 2.06.94-2.06 2.06-.94-2.06-.94-.94-2.06-.94 2.06-2.06.94zm-11 1L8.5 8.5l.94-2.06 2.06-.94-2.06-.94L8.5 2.5l-.94 2.06-2.06.94zm10 10l.94 2.06.94-2.06 2.06-.94-2.06-.94-.94-2.06-.94 2.06-2.06.94z\"/><path d=\"M17.41 7.96l-1.37-1.37c-.4-.4-.92-.59-1.43-.59-.52 0-1.04.2-1.43.59L10.3 9.45l-7.72 7.72c-.78.78-.78 2.05 0 2.83L4 21.41c.39.39.9.59 1.41.59.51 0 1.02-.2 1.41-.59l7.78-7.78 2.81-2.81c.8-.78.8-2.07 0-2.86zM5.41 20L4 18.59l7.72-7.72 1.47 1.35L5.41 20z\"/>\n",
              "  </svg>\n",
              "      </button>\n",
              "      \n",
              "  <style>\n",
              "    .colab-df-container {\n",
              "      display:flex;\n",
              "      flex-wrap:wrap;\n",
              "      gap: 12px;\n",
              "    }\n",
              "\n",
              "    .colab-df-convert {\n",
              "      background-color: #E8F0FE;\n",
              "      border: none;\n",
              "      border-radius: 50%;\n",
              "      cursor: pointer;\n",
              "      display: none;\n",
              "      fill: #1967D2;\n",
              "      height: 32px;\n",
              "      padding: 0 0 0 0;\n",
              "      width: 32px;\n",
              "    }\n",
              "\n",
              "    .colab-df-convert:hover {\n",
              "      background-color: #E2EBFA;\n",
              "      box-shadow: 0px 1px 2px rgba(60, 64, 67, 0.3), 0px 1px 3px 1px rgba(60, 64, 67, 0.15);\n",
              "      fill: #174EA6;\n",
              "    }\n",
              "\n",
              "    [theme=dark] .colab-df-convert {\n",
              "      background-color: #3B4455;\n",
              "      fill: #D2E3FC;\n",
              "    }\n",
              "\n",
              "    [theme=dark] .colab-df-convert:hover {\n",
              "      background-color: #434B5C;\n",
              "      box-shadow: 0px 1px 3px 1px rgba(0, 0, 0, 0.15);\n",
              "      filter: drop-shadow(0px 1px 2px rgba(0, 0, 0, 0.3));\n",
              "      fill: #FFFFFF;\n",
              "    }\n",
              "  </style>\n",
              "\n",
              "      <script>\n",
              "        const buttonEl =\n",
              "          document.querySelector('#df-8b847daf-ca73-47b9-acb5-d2800ec01a2f button.colab-df-convert');\n",
              "        buttonEl.style.display =\n",
              "          google.colab.kernel.accessAllowed ? 'block' : 'none';\n",
              "\n",
              "        async function convertToInteractive(key) {\n",
              "          const element = document.querySelector('#df-8b847daf-ca73-47b9-acb5-d2800ec01a2f');\n",
              "          const dataTable =\n",
              "            await google.colab.kernel.invokeFunction('convertToInteractive',\n",
              "                                                     [key], {});\n",
              "          if (!dataTable) return;\n",
              "\n",
              "          const docLinkHtml = 'Like what you see? Visit the ' +\n",
              "            '<a target=\"_blank\" href=https://colab.research.google.com/notebooks/data_table.ipynb>data table notebook</a>'\n",
              "            + ' to learn more about interactive tables.';\n",
              "          element.innerHTML = '';\n",
              "          dataTable['output_type'] = 'display_data';\n",
              "          await google.colab.output.renderOutput(dataTable, element);\n",
              "          const docLink = document.createElement('div');\n",
              "          docLink.innerHTML = docLinkHtml;\n",
              "          element.appendChild(docLink);\n",
              "        }\n",
              "      </script>\n",
              "    </div>\n",
              "  </div>\n",
              "  "
            ]
          },
          "metadata": {},
          "execution_count": 3
        }
      ]
    },
    {
      "cell_type": "markdown",
      "source": [
        "###Read/Parse input data\n",
        "\n",
        "Here we read the data in and transform it into the input data for the mapper phase."
      ],
      "metadata": {
        "id": "PMjjt3mKQgTC"
      }
    },
    {
      "cell_type": "code",
      "source": [
        "#Complete parse of data\n",
        "testFile = open(\"/content/drive/MyDrive/Education/Universitys/Reading University/Masters/Course/S2/Big Data and Cloud Computing (2021 22)/Cloud Computing/Assignment/Data/AComp_Passenger_data_no_error(1).csv\")\n",
        "#using csvreader object to read the csv file\n",
        "csvreader = csv.reader(testFile)\n",
        "#loop through the rows of the csv file and add them to the input data for the mapper to do its thing.\n",
        "\n",
        "passData = []\n",
        "for row in csvreader:\n",
        "  passData.append(row)\n",
        "passData\n",
        "testFile.close()"
      ],
      "metadata": {
        "id": "IOHT1vtPPhhh"
      },
      "execution_count": 4,
      "outputs": []
    },
    {
      "cell_type": "code",
      "source": [
        "#prints the full listed data from the CSV file.\n",
        "passData"
      ],
      "metadata": {
        "id": "3WmDWUS1EhjP"
      },
      "execution_count": null,
      "outputs": []
    },
    {
      "cell_type": "markdown",
      "source": [
        "###The Mapper & Reducer classes \n",
        "\n",
        "Here we implement the mapper Class and create an object to be used later.\n",
        "We do the same for the reducer."
      ],
      "metadata": {
        "id": "8Z4ZstqTe2-Y"
      }
    },
    {
      "cell_type": "markdown",
      "source": [
        "####The Mapper\n",
        "\n",
        "Here is the mapper class."
      ],
      "metadata": {
        "id": "Bccqz9jVd_CC"
      }
    },
    {
      "cell_type": "code",
      "source": [
        "#creation of the mapper class\n",
        "class Mapper(object):\n",
        "  \n",
        "  def __init__(self):\n",
        "    self.output = []\n",
        "    \n",
        "  def mapper(self,dataset, index):\n",
        "      self.output = []\n",
        "      for line in dataset:\n",
        "        self.output.append(tuple((line[index],1)))\n",
        "      return self.output\n",
        "    "
      ],
      "metadata": {
        "id": "ReSHQXk7fwUJ"
      },
      "execution_count": 6,
      "outputs": []
    },
    {
      "cell_type": "code",
      "source": [
        "fmapper = Mapper()"
      ],
      "metadata": {
        "id": "jcX80qUHWudt"
      },
      "execution_count": 7,
      "outputs": []
    },
    {
      "cell_type": "markdown",
      "source": [
        "####The Reducer\n",
        "\n",
        "Here is the reducer class and its child class."
      ],
      "metadata": {
        "id": "bzHxghzTeDSc"
      }
    },
    {
      "cell_type": "code",
      "source": [
        "#creating the reducer class\n",
        "class Reducer(object):\n",
        "  \n",
        "  def __init__(self):\n",
        "     self.c=\"\" \n",
        "     self.counter = {}\n",
        "  \n",
        "  def reducer(self,input):\n",
        "  #searches line by line counting keyvalues.\n",
        "    for line in input:\n",
        "      if line[0] not in self.counter:\n",
        "        self.counter[line[0]] = 0\n",
        "      self.counter[line[0]] += 1\n",
        "    return self.counter\n"
      ],
      "metadata": {
        "id": "CNSx9d-ofypO"
      },
      "execution_count": 8,
      "outputs": []
    },
    {
      "cell_type": "code",
      "source": [
        "#this should have created an object of the reducer\n",
        "fReducer = Reducer()"
      ],
      "metadata": {
        "id": "Bq_guMiebg3C"
      },
      "execution_count": 9,
      "outputs": []
    },
    {
      "cell_type": "code",
      "source": [
        "#create a child of the orginal reducer class, this is done purly to demonstrate understanding of the process of inheratiance in code.  \n",
        "class HighestValueReducer(Reducer):\n",
        "\n",
        "  def reducerHighestVal(self,input):\n",
        "    self.counter = Reducer.reducer(self,input)\n",
        "    \n",
        "    max_key = max(self.counter, key = self.counter.get)\n",
        "    #returns the most traveled customer\n",
        "    return max_key"
      ],
      "metadata": {
        "id": "u6KyWN0XYiTx"
      },
      "execution_count": 10,
      "outputs": []
    },
    {
      "cell_type": "code",
      "source": [
        "#Creating a object of the reducer child for use in task 2\n",
        "highReducer = HighestValueReducer()"
      ],
      "metadata": {
        "id": "Epc20gXycQXI"
      },
      "execution_count": 11,
      "outputs": []
    },
    {
      "cell_type": "markdown",
      "source": [
        "###MultiThreading implementation for mapper stage.\n",
        "\n",
        "In this section we implement multithreading so that the mapper class can run more efficiently across chunks of data. We do this by first taking the original amount of data and break it into a specified amount of chunks then, starting threads of the mapper for each of the chunks. The output of the mapper is then joined before being passed to the reducer."
      ],
      "metadata": {
        "id": "aXDqLNDpkt5E"
      }
    },
    {
      "cell_type": "code",
      "source": [
        "from threading import Thread"
      ],
      "metadata": {
        "id": "333V-JlTK_P5"
      },
      "execution_count": 12,
      "outputs": []
    },
    {
      "cell_type": "markdown",
      "source": [
        "####Multi-Threading class and function defined\n",
        "\n",
        "Here we define the threading class that allows us to return an output from a thread."
      ],
      "metadata": {
        "id": "uf23-oR6Zy_L"
      }
    },
    {
      "cell_type": "code",
      "source": [
        "#class that allows for threads to return things\n",
        "class ThreadWithReturnValue(Thread):\n",
        "    def __init__(self, group=None, target=None, name=None,\n",
        "                 args=(), kwargs={}, Verbose=None):\n",
        "        Thread.__init__(self, group, target, name, args, kwargs)\n",
        "        self._return = None\n",
        "    def run(self):\n",
        "        print(type(self._target))\n",
        "        if self._target is not None:\n",
        "            self._return = self._target(*self._args,\n",
        "                                                **self._kwargs)\n",
        "    def join(self, *args):\n",
        "        Thread.join(self, *args)\n",
        "        return self._return"
      ],
      "metadata": {
        "id": "yWV7XpodM8s0"
      },
      "execution_count": 13,
      "outputs": []
    },
    {
      "cell_type": "code",
      "source": [
        "#Here we denfine the mapping multi-Thread function.\n",
        "def threadMapper(data, index, chunks):\n",
        "  \n",
        "  #Split the orgin data into list of chunks\n",
        "  n = int(len(data)/chunks)\n",
        "  output=[data[i:i + n] for i in range(0, len(data), n)]\n",
        " \n",
        "  fullList = []\n",
        "  for i in range(len(output)):\n",
        "    #creates threads based on the number of chunks to perform the mapper task.\n",
        "    tmrvt = ThreadWithReturnValue(target=fmapper.mapper,args=(output[i],index))\n",
        "    tmrvt.start()\n",
        "    fullList.append(tmrvt.join())\n",
        "  \n",
        "  finalList = []\n",
        "  for line in fullList:\n",
        "    finalList = finalList + line\n",
        "\n",
        "  \n",
        "  return finalList"
      ],
      "metadata": {
        "id": "JqH2y_IXNDh9"
      },
      "execution_count": 14,
      "outputs": []
    },
    {
      "cell_type": "markdown",
      "source": [
        "##Task 1\n",
        "\n",
        "Determine the total number of flights from each airport"
      ],
      "metadata": {
        "id": "hGrSz7zdusF1"
      }
    },
    {
      "cell_type": "markdown",
      "source": [
        "###Performing the mapper function for Task 1"
      ],
      "metadata": {
        "id": "QJ0eQf3WaeU4"
      }
    },
    {
      "cell_type": "code",
      "source": [
        "#starts the threading to produce the full keyvalue list for task 1\n",
        "fullListPorts = threadMapper(passData,2,4)"
      ],
      "metadata": {
        "colab": {
          "base_uri": "https://localhost:8080/"
        },
        "id": "wuCCR8NdNg8_",
        "outputId": "2e7147ed-05df-4f2d-eb57-f82a84e7c791"
      },
      "execution_count": 15,
      "outputs": [
        {
          "output_type": "stream",
          "name": "stdout",
          "text": [
            "<class 'method'>\n",
            "<class 'method'>\n",
            "<class 'method'>\n",
            "<class 'method'>\n"
          ]
        }
      ]
    },
    {
      "cell_type": "code",
      "source": [
        "#Prints the full list after the mapper step has been complete\n",
        "fullListPorts"
      ],
      "metadata": {
        "id": "vmKi3MytSSno"
      },
      "execution_count": null,
      "outputs": []
    },
    {
      "cell_type": "markdown",
      "source": [
        "###The reducer\n",
        "\n",
        "Here we implement the reducer and allow it to find our outputs."
      ],
      "metadata": {
        "id": "MwQJngMUfwtp"
      }
    },
    {
      "cell_type": "code",
      "source": [
        "#performs a function inside the class\n",
        "finalOutput = fReducer.reducer(fullListPorts)"
      ],
      "metadata": {
        "id": "X2r9l8nqPnwJ"
      },
      "execution_count": 17,
      "outputs": []
    },
    {
      "cell_type": "markdown",
      "source": [
        "###The Output\n",
        "\n",
        "Here we show the output of the map-reduce funcinality.\n",
        "\n",
        "This should represent the area that displays the outputs that the assignment is looking for."
      ],
      "metadata": {
        "id": "5acQkHvRgBVC"
      }
    },
    {
      "cell_type": "code",
      "source": [
        "#finalOutput represents the total number of flights from each airport\n",
        "finalOutput"
      ],
      "metadata": {
        "id": "B3Uzp6N5gBKv",
        "colab": {
          "base_uri": "https://localhost:8080/"
        },
        "outputId": "53ec76dc-aa11-48ce-a90a-ded7eecf8fe6"
      },
      "execution_count": 18,
      "outputs": [
        {
          "output_type": "execute_result",
          "data": {
            "text/plain": [
              "{'AMS': 15,\n",
              " 'ATL': 36,\n",
              " 'BKK': 17,\n",
              " 'CAN': 37,\n",
              " 'CDG': 21,\n",
              " 'CGK': 27,\n",
              " 'CLT': 21,\n",
              " 'DEN': 46,\n",
              " 'DFW': 11,\n",
              " 'FCO': 15,\n",
              " 'HND': 13,\n",
              " 'IAH': 37,\n",
              " 'JFK': 25,\n",
              " 'KUL': 33,\n",
              " 'LAS': 17,\n",
              " 'LHR': 25,\n",
              " 'MAD': 13,\n",
              " 'MIA': 11,\n",
              " 'MUC': 14,\n",
              " 'ORD': 33,\n",
              " 'PEK': 13,\n",
              " 'PVG': 20}"
            ]
          },
          "metadata": {},
          "execution_count": 18
        }
      ]
    },
    {
      "cell_type": "markdown",
      "source": [
        "##Task 2\n",
        "\n",
        "Here is task 2. \n",
        "\n",
        "Determine the passenger having had the highest number of flights."
      ],
      "metadata": {
        "id": "YTl-Jku6u1SA"
      }
    },
    {
      "cell_type": "markdown",
      "source": [
        "####Performing the mapper for Task 2"
      ],
      "metadata": {
        "id": "7rP7f13yajFl"
      }
    },
    {
      "cell_type": "code",
      "source": [
        "#Produce a full list of mapped keyvalues for task 2\n",
        "fullListPeople = threadMapper(passData,0,4)"
      ],
      "metadata": {
        "colab": {
          "base_uri": "https://localhost:8080/"
        },
        "id": "vunJ7GmnR83r",
        "outputId": "d7218703-b7ab-439c-a6a3-f2812b5be1c3"
      },
      "execution_count": 19,
      "outputs": [
        {
          "output_type": "stream",
          "name": "stdout",
          "text": [
            "<class 'method'>\n",
            "<class 'method'>\n",
            "<class 'method'>\n",
            "<class 'method'>\n"
          ]
        }
      ]
    },
    {
      "cell_type": "code",
      "source": [
        "fullListPeople "
      ],
      "metadata": {
        "id": "UjihYTOXSDsz"
      },
      "execution_count": null,
      "outputs": []
    },
    {
      "cell_type": "markdown",
      "source": [
        "###Reduce\n",
        "\n",
        "Create the reduce function."
      ],
      "metadata": {
        "id": "Fi5byn1VvCvf"
      }
    },
    {
      "cell_type": "code",
      "source": [
        "#perform reducer step on keyvalue pairs for task 2, using the child object of reducer class\n",
        "mostTraveledCustomer = highReducer.reducerHighestVal(fullListPeople)"
      ],
      "metadata": {
        "id": "ySY0ya8bbey3"
      },
      "execution_count": 21,
      "outputs": []
    },
    {
      "cell_type": "markdown",
      "source": [
        "###Output\n",
        "\n",
        "Here represents the output of this task."
      ],
      "metadata": {
        "id": "RH_FCxFHx4RK"
      }
    },
    {
      "cell_type": "code",
      "source": [
        "#the mostTraveledCustomer represents the customer that travels the most \n",
        "mostTraveledCustomer"
      ],
      "metadata": {
        "colab": {
          "base_uri": "https://localhost:8080/",
          "height": 35
        },
        "id": "k9qvpzI-32gE",
        "outputId": "53bc5f89-a3b0-42f8-9f3a-a7eefcded744"
      },
      "execution_count": 22,
      "outputs": [
        {
          "output_type": "execute_result",
          "data": {
            "text/plain": [
              "'UES9151GS5'"
            ],
            "application/vnd.google.colaboratory.intrinsic+json": {
              "type": "string"
            }
          },
          "metadata": {},
          "execution_count": 22
        }
      ]
    }
  ]
}